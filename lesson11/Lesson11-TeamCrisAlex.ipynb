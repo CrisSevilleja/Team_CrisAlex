{
 "metadata": {
  "name": "",
  "signature": "sha256:7541e67002c59e788d5e68d9cc03a574095cb37b1e2adb1b9d839b2f1553f629"
 },
 "nbformat": 3,
 "nbformat_minor": 0,
 "worksheets": [
  {
   "cells": [
    {
     "cell_type": "markdown",
     "metadata": {},
     "source": [
      "Lesson 11 Vectors in Python in the course of Geo-Scripting\n",
      "Team CrisAlex: Cristina Gonz\u00e1lez and Wan Quanxing\n",
      "23/01/2017\n"
     ]
    },
    {
     "cell_type": "markdown",
     "metadata": {},
     "source": [
      "Assigment to generate a shapefile with two points in Python.\n",
      "First of all, import all the libraries and determine the directory"
     ]
    },
    {
     "cell_type": "code",
     "collapsed": false,
     "input": [
      "import os\n",
      "os.chdir('/home/ubuntu/lesson11')\n",
      "print os.getcwd()"
     ],
     "language": "python",
     "metadata": {},
     "outputs": [
      {
       "output_type": "stream",
       "stream": "stdout",
       "text": [
        "/home/ubuntu/lesson11\n"
       ]
      }
     ],
     "prompt_number": 1
    },
    {
     "cell_type": "code",
     "collapsed": false,
     "input": [
      "from osgeo import ogr,osr\n",
      "import os"
     ],
     "language": "python",
     "metadata": {},
     "outputs": [],
     "prompt_number": 2
    },
    {
     "cell_type": "markdown",
     "metadata": {},
     "source": [
      "determine the driver"
     ]
    },
    {
     "cell_type": "code",
     "collapsed": false,
     "input": [
      "driverName = \"ESRI Shapefile\"\n",
      "\n",
      "drv = ogr.GetDriverByName( driverName )\n",
      "if drv is None:\n",
      "    print \"%s driver not available.\\n\" % driverName\n",
      "else:\n",
      "    print  \"%s driver IS available.\\n\" % driverName"
     ],
     "language": "python",
     "metadata": {},
     "outputs": [
      {
       "output_type": "stream",
       "stream": "stdout",
       "text": [
        "ESRI Shapefile driver IS available.\n",
        "\n"
       ]
      }
     ],
     "prompt_number": 3
    },
    {
     "cell_type": "markdown",
     "metadata": {},
     "source": [
      "Create the shapefile"
     ]
    },
    {
     "cell_type": "code",
     "collapsed": false,
     "input": [
      "fn = \"wagn_points.shp\"\n",
      "layername = \"wageningenlayer\"\n",
      "ds = drv.CreateDataSource(fn)\n",
      "print ds.GetRefCount()"
     ],
     "language": "python",
     "metadata": {},
     "outputs": [
      {
       "output_type": "stream",
       "stream": "stdout",
       "text": [
        "1\n"
       ]
      }
     ],
     "prompt_number": 4
    },
    {
     "cell_type": "markdown",
     "metadata": {},
     "source": [
      "Detemine the spatial References in this case EPSG: WSG84"
     ]
    },
    {
     "cell_type": "code",
     "collapsed": false,
     "input": [
      "spatialRef = osr.SpatialReference()\n",
      "spatialRef.ImportFromProj4('+proj=longlat +ellps=WGS84 +datum=WGS84 +no_defs')\n",
      "print(spatialRef)"
     ],
     "language": "python",
     "metadata": {},
     "outputs": [
      {
       "output_type": "stream",
       "stream": "stdout",
       "text": [
        "GEOGCS[\"WGS 84\",\n",
        "    DATUM[\"WGS_1984\",\n",
        "        SPHEROID[\"WGS 84\",6378137,298.257223563,\n",
        "            AUTHORITY[\"EPSG\",\"7030\"]],\n",
        "        AUTHORITY[\"EPSG\",\"6326\"]],\n",
        "    PRIMEM[\"Greenwich\",0,\n",
        "        AUTHORITY[\"EPSG\",\"8901\"]],\n",
        "    UNIT[\"degree\",0.0174532925199433,\n",
        "        AUTHORITY[\"EPSG\",\"9122\"]],\n",
        "    AUTHORITY[\"EPSG\",\"4326\"]]\n"
       ]
      }
     ],
     "prompt_number": 5
    },
    {
     "cell_type": "markdown",
     "metadata": {},
     "source": [
      "Create the layer for the shapefile"
     ]
    },
    {
     "cell_type": "code",
     "collapsed": false,
     "input": [
      "layer=ds.CreateLayer(layername, spatialRef, ogr.wkbPoint)\n",
      "print(layer.GetExtent())"
     ],
     "language": "python",
     "metadata": {},
     "outputs": [
      {
       "output_type": "stream",
       "stream": "stdout",
       "text": [
        "(0.0, 0.0, 0.0, 0.0)\n"
       ]
      }
     ],
     "prompt_number": 6
    },
    {
     "cell_type": "markdown",
     "metadata": {},
     "source": [
      "Create a kml file for the points"
     ]
    },
    {
     "cell_type": "code",
     "collapsed": false,
     "input": [
      "fl=open(\"point2.kml\",'w')\n",
      "fl.write(\"<Document>\")"
     ],
     "language": "python",
     "metadata": {},
     "outputs": [],
     "prompt_number": 7
    },
    {
     "cell_type": "markdown",
     "metadata": {},
     "source": [
      "One for loop is created to include the coordinates in the shapefile points, include the layer, feature and create the KML file to show it in Google Earth"
     ]
    },
    {
     "cell_type": "code",
     "collapsed": false,
     "input": [
      "points_wag = [(5.665923,51.987252),(5.662596,51.964902)]\n",
      "\n",
      "for i in points_wag:\n",
      "    \n",
      "    points= ogr.Geometry(ogr.wkbPoint)\n",
      "    points.SetPoint(0,i[0],i[1])\n",
      "    fl.write(\"<Placemark>\")\n",
      "    fl.write(points.ExportToKML())\n",
      "    fl.write(\"</Placemark>\")\n",
      "    layerDefinition = layer.GetLayerDefn()\n",
      "    feature = ogr.Feature(layerDefinition)\n",
      "    feature.SetGeometry(points)\n",
      "    layer.CreateFeature(feature)    \n",
      "    \n",
      "print \"The new extent\"\n",
      "print layer.GetExtent()\n",
      "\n",
      "fl.write(\"</Document>\")\n",
      "fl.close()\n",
      "\n",
      "ds.Destroy()"
     ],
     "language": "python",
     "metadata": {},
     "outputs": [
      {
       "output_type": "stream",
       "stream": "stdout",
       "text": [
        "The new extent\n",
        "(5.662596, 5.665923, 51.964902, 51.987252)\n"
       ]
      }
     ],
     "prompt_number": 8
    },
    {
     "cell_type": "markdown",
     "metadata": {},
     "source": [
      "Next command should be used in QGIS interface to produce the vector layer there."
     ]
    },
    {
     "cell_type": "code",
     "collapsed": false,
     "input": [
      "qgis.utils.iface.addVectorLayer(fn, layername, \"ogr\") \n",
      "aLayer = qgis.utils.iface.activeLayer()\n",
      "print aLayer.name()"
     ],
     "language": "python",
     "metadata": {},
     "outputs": []
    },
    {
     "cell_type": "markdown",
     "metadata": {},
     "source": [
      "Produce a GeoJSON file with the subprocess library to produce it in the Bash"
     ]
    },
    {
     "cell_type": "code",
     "collapsed": false,
     "input": [
      "import subprocess"
     ],
     "language": "python",
     "metadata": {},
     "outputs": [],
     "prompt_number": 10
    },
    {
     "cell_type": "code",
     "collapsed": false,
     "input": [
      "subprocess.call([\"ogr2ogr\",\"-f\", \"GeoJSON\", \"-t_srs\", \"crs:84\",\"wagn_points.geojson\", \"wagn_points.shp\"])"
     ],
     "language": "python",
     "metadata": {},
     "outputs": [
      {
       "metadata": {},
       "output_type": "pyout",
       "prompt_number": 11,
       "text": [
        "0"
       ]
      }
     ],
     "prompt_number": 11
    },
    {
     "cell_type": "markdown",
     "metadata": {},
     "source": [
      "Create a choropleth with the file GeoJSON of our points in Wageningen"
     ]
    },
    {
     "cell_type": "code",
     "collapsed": false,
     "input": [
      "import folium\n",
      "import os\n",
      "features=[]\n",
      "pointsGeo=os.path.join(\"wagn_points.geojson\")\n",
      "map_points = folium.Map(location=[52,5.7],tiles='Mapbox Bright', zoom_start=6)\n",
      "map_points.choropleth(geo_path=pointsGeo)\n",
      "map_points.save('wagn_points.html')"
     ],
     "language": "python",
     "metadata": {},
     "outputs": [],
     "prompt_number": 12
    },
    {
     "cell_type": "markdown",
     "metadata": {},
     "source": []
    }
   ],
   "metadata": {}
  }
 ]
}